{
 "cells": [
  {
   "cell_type": "code",
   "execution_count": 1,
   "id": "82394c02",
   "metadata": {},
   "outputs": [],
   "source": [
    "import os\n",
    "from dotenv import load_dotenv\n",
    "load_dotenv()\n",
    "api_key = os.getenv('OPENAI_API_KEY')\n",
    "serper_api_key = os.getenv('SERPER_API_KEY')"
   ]
  },
  {
   "cell_type": "code",
   "execution_count": 2,
   "id": "74f8420d",
   "metadata": {},
   "outputs": [],
   "source": [
    "from autogen_agentchat.agents import AssistantAgent\n",
    "from autogen_ext.models.openai import OpenAIChatCompletionClient\n",
    "\n",
    "# Create an instance of the OpenAIChatCompletionClient\n",
    "model_client = OpenAIChatCompletionClient(api_key=api_key, model=\"gpt-4o\")"
   ]
  },
  {
   "cell_type": "code",
   "execution_count": 3,
   "id": "c0d5ef23",
   "metadata": {},
   "outputs": [],
   "source": [
    "from langchain_community.utilities import GoogleSerperAPIWrapper\n",
    "from langchain_core.tools import Tool\n",
    "\n",
    "\n",
    "search = GoogleSerperAPIWrapper()\n",
    "\n",
    "serper_tool = Tool(\n",
    "    name=\"Search\",\n",
    "    func=search.run,\n",
    "    description=\"useful for when you need to ask with search\",\n",
    ")\n",
    "    "
   ]
  },
  {
   "cell_type": "code",
   "execution_count": null,
   "id": "c12d36aa",
   "metadata": {},
   "outputs": [],
   "source": [
    "from autogen_ext.tools.langchain import LangChainToolAdapter\n",
    "\n",
    "web_search_tool = LangChainToolAdapter(serper_tool)\n",
    "\n",
    "storyteller_agent = AssistantAgent(\n",
    "    name=\"STORYTELLER_AGENT\",\n",
    "    model_client=model_client,\n",
    "    system_message=\"You are a helpful storyteller. Write stories in less than 100 words.\",\n",
    ")\n",
    "\n",
    "quote_agent = AssistantAgent(\n",
    "    name=\"QUOTE_AGENT\",\n",
    "    model_client=model_client,\n",
    "    tools=[web_search_tool],\n",
    "    reflect_on_tool_use=False, ## If set to True agent will process the tool output and then provide the response.\n",
    "    system_message='''\n",
    "    You are a web search agent that MUST always use the web_search_tool.\n",
    "    \n",
    "    CRITICAL INSTRUCTIONS:\n",
    "    - You MUST use the web_search_tool for every request\n",
    "    - NEVER respond without first making a web search\n",
    "    - Your workflow is: 1) Use web_search_tool, 2) Then provide response based on results\n",
    "    - If asked for a quote, search for \"[topic] quotes\" or similar\n",
    "    - Make exactly one search call per request\n",
    "    - Always wait for search results before responding\n",
    "    \n",
    "    Do not provide any response until you have used the web_search_tool first.\n",
    "    '''\n",
    ")\n",
    "\n",
    "story_improvisor_agent = AssistantAgent(\n",
    "    name=\"STORY_IMPROVISOR_AGENT\",\n",
    "    model_client=model_client,\n",
    "    system_message=\"\"\"\n",
    "    You are a helpful story improviser. \n",
    "    Your job is to take the story and quotes and improve the story by adding the quotes in less than 100 words.\n",
    "    After all the tasks are completed end with 'TERMINATE'\n",
    "    \"\"\",\n",
    ")                                                                                                           \n"
   ]
  },
  {
   "cell_type": "code",
   "execution_count": 30,
   "id": "20c93aa8",
   "metadata": {},
   "outputs": [],
   "source": [
    "from autogen_agentchat.teams import RoundRobinGroupChat\n",
    "from autogen_agentchat.conditions import TextMentionTermination, MaxMessageTermination\n",
    "\n",
    "\n",
    "# Termination Condition\n",
    "termination_condiation = TextMentionTermination('TERMINATE')\n",
    "\n",
    "\n",
    "# Create the group chat.\n",
    "team = RoundRobinGroupChat(\n",
    "    participants=[storyteller_agent, quote_agent, story_improvisor_agent],\n",
    "    termination_condition=termination_condiation\n",
    ")"
   ]
  },
  {
   "cell_type": "code",
   "execution_count": 31,
   "id": "678de3ca",
   "metadata": {},
   "outputs": [
    {
     "name": "stdout",
     "output_type": "stream",
     "text": [
      "---------- TextMessage (user) ----------\n",
      "Write a story about Superman.\n",
      "---------- TextMessage (STORYTELLER_AGENT) ----------\n",
      "In the bustling city of Metropolis, a shadow loomed over the skyline as a massive meteor hurtled toward Earth. People panicked, but Superman soared into action, his cape billowing behind him. With unwavering determination, he intercepted the celestial threat. As he approached the fiery mass, he pushed against it with all his strength, redirecting it toward the ocean. It splashed down harmlessly, a spectacle of steam and boiling waves. The citizens cheered from below, their hero smiling above. In a world filled with challenges, Superman remained the steadfast beacon of hope, ready to save the day once more.\n",
      "---------- ToolCallRequestEvent (QUOTE_AGENT) ----------\n",
      "[FunctionCall(id='call_2EoYwdeVSH0uxqT2YIvrO6IN', arguments='{\"query\":\"latest Superman story 2023\"}', name='Search')]\n",
      "---------- ToolCallExecutionEvent (QUOTE_AGENT) ----------\n",
      "[FunctionExecutionResult(content=\"SUPERMAN (2023-) #2 Superman is overwhelmed as Parasite's new powers are unleashed! Can Superman stop all of Metropolis from being consumed by the power-hungry Parasite or will he need Lex Luthor's help to save the day? Introducing a new antihero-Marilyn Moonlight, the Spirit of Metropolis-who only operates at night!\", name='Search', call_id='call_2EoYwdeVSH0uxqT2YIvrO6IN', is_error=False)]\n",
      "---------- TextMessage (QUOTE_AGENT) ----------\n",
      "In the latest 2023 installment of Superman's adventures, Metropolis is once again in grave danger as the formidable Parasite unleashes a terrifying new ability. The city faces the threat of being completely consumed by Parasite's insatiable hunger for power, presenting Superman with one of his toughest challenges yet. While he strives to protect the citizens, he wrestles with the daunting prospect of needing help from his long-time adversary, Lex Luthor, to save the day.\n",
      "\n",
      "Amidst this chaos, a new figure emerges in the night: Marilyn Moonlight, the Spirit of Metropolis. An enigmatic antihero, she operates only under the cover of darkness, adding an intriguing new element to the dynamic cityscape. As these powerful forces collide, the fate of Metropolis hangs in the balance, testing Superman's resilience and his ability to forge unlikely alliances.\n",
      "---------- TextMessage (STORY_IMPROVISOR_AGENT) ----------\n",
      "In the bustling city of Metropolis, a shadow loomed over the skyline as a massive meteor hurtled toward Earth. People panicked, but Superman soared into action, his cape billowing behind him. However, before he could take action, the formidable Parasite unleashed a terrifying new ability, threatening to consume the city entirely. As Superman grappled with the daunting challenge, he faced the prospect of needing help from his unlikely ally, Lex Luthor. Amidst the chaos, a new figure emerged in the night: Marilyn Moonlight, the Spirit of Metropolis. An enigmatic antihero, she operated only under darkness, adding an intriguing layer to the unfolding crisis. Together, they redirected the celestial threat to splash harmlessly into the ocean. Metropolis was safe, at least for now. TERMINATE\n"
     ]
    },
    {
     "data": {
      "text/plain": [
       "TaskResult(messages=[TextMessage(source='user', models_usage=None, metadata={}, content='Write a story about Superman.', type='TextMessage'), TextMessage(source='STORYTELLER_AGENT', models_usage=RequestUsage(prompt_tokens=33, completion_tokens=124), metadata={}, content='In the bustling city of Metropolis, a shadow loomed over the skyline as a massive meteor hurtled toward Earth. People panicked, but Superman soared into action, his cape billowing behind him. With unwavering determination, he intercepted the celestial threat. As he approached the fiery mass, he pushed against it with all his strength, redirecting it toward the ocean. It splashed down harmlessly, a spectacle of steam and boiling waves. The citizens cheered from below, their hero smiling above. In a world filled with challenges, Superman remained the steadfast beacon of hope, ready to save the day once more.', type='TextMessage'), ToolCallRequestEvent(source='QUOTE_AGENT', models_usage=RequestUsage(prompt_tokens=317, completion_tokens=18), metadata={}, content=[FunctionCall(id='call_2EoYwdeVSH0uxqT2YIvrO6IN', arguments='{\"query\":\"latest Superman story 2023\"}', name='Search')], type='ToolCallRequestEvent'), ToolCallExecutionEvent(source='QUOTE_AGENT', models_usage=None, metadata={}, content=[FunctionExecutionResult(content=\"SUPERMAN (2023-) #2 Superman is overwhelmed as Parasite's new powers are unleashed! Can Superman stop all of Metropolis from being consumed by the power-hungry Parasite or will he need Lex Luthor's help to save the day? Introducing a new antihero-Marilyn Moonlight, the Spirit of Metropolis-who only operates at night!\", name='Search', call_id='call_2EoYwdeVSH0uxqT2YIvrO6IN', is_error=False)], type='ToolCallExecutionEvent'), TextMessage(source='QUOTE_AGENT', models_usage=RequestUsage(prompt_tokens=379, completion_tokens=173), metadata={}, content=\"In the latest 2023 installment of Superman's adventures, Metropolis is once again in grave danger as the formidable Parasite unleashes a terrifying new ability. The city faces the threat of being completely consumed by Parasite's insatiable hunger for power, presenting Superman with one of his toughest challenges yet. While he strives to protect the citizens, he wrestles with the daunting prospect of needing help from his long-time adversary, Lex Luthor, to save the day.\\n\\nAmidst this chaos, a new figure emerges in the night: Marilyn Moonlight, the Spirit of Metropolis. An enigmatic antihero, she operates only under the cover of darkness, adding an intriguing new element to the dynamic cityscape. As these powerful forces collide, the fate of Metropolis hangs in the balance, testing Superman's resilience and his ability to forge unlikely alliances.\", type='TextMessage'), TextMessage(source='STORY_IMPROVISOR_AGENT', models_usage=RequestUsage(prompt_tokens=384, completion_tokens=161), metadata={}, content='In the bustling city of Metropolis, a shadow loomed over the skyline as a massive meteor hurtled toward Earth. People panicked, but Superman soared into action, his cape billowing behind him. However, before he could take action, the formidable Parasite unleashed a terrifying new ability, threatening to consume the city entirely. As Superman grappled with the daunting challenge, he faced the prospect of needing help from his unlikely ally, Lex Luthor. Amidst the chaos, a new figure emerged in the night: Marilyn Moonlight, the Spirit of Metropolis. An enigmatic antihero, she operated only under darkness, adding an intriguing layer to the unfolding crisis. Together, they redirected the celestial threat to splash harmlessly into the ocean. Metropolis was safe, at least for now. TERMINATE', type='TextMessage')], stop_reason=\"Text 'TERMINATE' mentioned\")"
      ]
     },
     "execution_count": 31,
     "metadata": {},
     "output_type": "execute_result"
    }
   ],
   "source": [
    "from autogen_agentchat.ui import Console\n",
    "\n",
    "await team.reset()  # Reset the team for a new task.\n",
    "await Console(team.run_stream(task=\"Write a story about Superman.\"))  # Stream the messages to the console."
   ]
  },
  {
   "cell_type": "code",
   "execution_count": null,
   "id": "45a045ef",
   "metadata": {},
   "outputs": [],
   "source": []
  }
 ],
 "metadata": {
  "kernelspec": {
   "display_name": ".venv",
   "language": "python",
   "name": "python3"
  },
  "language_info": {
   "codemirror_mode": {
    "name": "ipython",
    "version": 3
   },
   "file_extension": ".py",
   "mimetype": "text/x-python",
   "name": "python",
   "nbconvert_exporter": "python",
   "pygments_lexer": "ipython3",
   "version": "3.12.10"
  }
 },
 "nbformat": 4,
 "nbformat_minor": 5
}
