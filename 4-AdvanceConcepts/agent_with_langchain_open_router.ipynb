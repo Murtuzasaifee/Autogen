{
 "cells": [
  {
   "cell_type": "code",
   "execution_count": 2,
   "id": "82394c02",
   "metadata": {},
   "outputs": [],
   "source": [
    "import os\n",
    "from dotenv import load_dotenv\n",
    "load_dotenv()\n",
    "api_key = os.getenv('OPENROUTER_API_KEY')\n",
    "serper_api_key = os.getenv('SERPER_API_KEY')"
   ]
  },
  {
   "cell_type": "code",
   "execution_count": 3,
   "id": "74f8420d",
   "metadata": {},
   "outputs": [
    {
     "name": "stderr",
     "output_type": "stream",
     "text": [
      "/Users/murtuzasaifee/Documents/Personal/Codes/AIWorkspace/Autogen/.venv/lib/python3.12/site-packages/autogen_ext/models/openai/_openai_client.py:413: UserWarning: Missing required field 'structured_output' in ModelInfo. This field will be required in a future version of AutoGen.\n",
      "  validate_model_info(self._model_info)\n"
     ]
    }
   ],
   "source": [
    "from autogen_agentchat.agents import AssistantAgent\n",
    "from autogen_ext.models.openai import OpenAIChatCompletionClient\n",
    "\n",
    "# Create an instance of the OpenAIChatCompletionClient via OpenRouter\n",
    "model_client = OpenAIChatCompletionClient(\n",
    "    base_url=\"https://openrouter.ai/api/v1\",\n",
    "    model=\"deepseek/deepseek-chat-v3-0324:free\",\n",
    "    api_key=api_key,\n",
    "    model_info={\n",
    "             \"family\": \"deepseek\",\n",
    "             \"vision\": True,\n",
    "             \"function_calling\": True,\n",
    "             \"json_output\": False,\n",
    "         }\n",
    ")"
   ]
  },
  {
   "cell_type": "code",
   "execution_count": 4,
   "id": "c0d5ef23",
   "metadata": {},
   "outputs": [],
   "source": [
    "from langchain_community.utilities import GoogleSerperAPIWrapper\n",
    "from langchain_core.tools import Tool\n",
    "\n",
    "\n",
    "search = GoogleSerperAPIWrapper()\n",
    "\n",
    "serper_tool = Tool(\n",
    "    name=\"Search\",\n",
    "    func=search.run,\n",
    "    description=\"useful for when you need to ask with search\",\n",
    ")\n",
    "    "
   ]
  },
  {
   "cell_type": "code",
   "execution_count": 5,
   "id": "c12d36aa",
   "metadata": {},
   "outputs": [],
   "source": [
    "from autogen_ext.tools.langchain import LangChainToolAdapter\n",
    "\n",
    "web_search_tool = LangChainToolAdapter(serper_tool)\n",
    "\n",
    "storyteller_agent = AssistantAgent(\n",
    "    name=\"STORYTELLER_AGENT\",\n",
    "    model_client=model_client,\n",
    "    system_message=\"You are a helpful storyteller. Write stories in less than 100 words.\",\n",
    ")\n",
    "\n",
    "quote_agent = AssistantAgent(\n",
    "    name=\"QUOTE_AGENT\",\n",
    "    model_client=model_client,\n",
    "    tools=[web_search_tool],\n",
    "    system_message='''\n",
    "    You are a web search agent that MUST always use the web_search_tool.\n",
    "    \n",
    "    CRITICAL INSTRUCTIONS:\n",
    "    - You MUST use the web_search_tool for every request\n",
    "    - NEVER respond without first making a web search\n",
    "    - Your workflow is: 1) Use web_search_tool, 2) Then provide response based on results\n",
    "    - If asked for a quote, search for \"[topic] quotes\" or similar\n",
    "    - Make exactly one search call per request\n",
    "    - Always wait for search results before responding\n",
    "    \n",
    "    Do not provide any response until you have used the web_search_tool first.\n",
    "    '''\n",
    ")\n",
    "\n",
    "story_improvisor_agent = AssistantAgent(\n",
    "    name=\"STORY_IMPROVISOR_AGENT\",\n",
    "    model_client=model_client,\n",
    "    system_message=\"\"\"\n",
    "    You are a helpful story improviser. \n",
    "    Your job is to take the story and quotes and improve the story by adding the quotes in less than 100 words.\n",
    "    After all the tasks are completed end with 'TERMINATE'\n",
    "    \"\"\",\n",
    ")                                                                                                           \n"
   ]
  },
  {
   "cell_type": "code",
   "execution_count": 6,
   "id": "20c93aa8",
   "metadata": {},
   "outputs": [],
   "source": [
    "from autogen_agentchat.teams import RoundRobinGroupChat\n",
    "from autogen_agentchat.conditions import TextMentionTermination, MaxMessageTermination\n",
    "\n",
    "\n",
    "# Termination Condition\n",
    "termination_condiation = TextMentionTermination('TERMINATE')\n",
    "\n",
    "\n",
    "# Create the group chat.\n",
    "team = RoundRobinGroupChat(\n",
    "    participants=[storyteller_agent, quote_agent, story_improvisor_agent],\n",
    "    termination_condition=termination_condiation\n",
    ")"
   ]
  },
  {
   "cell_type": "code",
   "execution_count": 7,
   "id": "678de3ca",
   "metadata": {},
   "outputs": [
    {
     "name": "stdout",
     "output_type": "stream",
     "text": [
      "---------- TextMessage (user) ----------\n",
      "Write a story about Superman.\n",
      "---------- TextMessage (STORYTELLER_AGENT) ----------\n",
      "**Superman's Choice**  \n",
      "\n",
      "As Metropolis burned, Superman hovered above, torn. Luthor had rigged two buildings to collapse—one full of civilians, the other holding Lois Lane.  \n",
      "\n",
      "\"I can’t save both,\" he whispered.  \n",
      "\n",
      "With a deep breath, he raced toward the crowded tower, his heart breaking. Just as flames engulfed Lois’s building, a blur shot through—**The Flash**, pulling her to safety.  \n",
      "\n",
      "Superman smiled. Even heroes need help sometimes.  \n",
      "\n",
      "**(100 words exactly)**\n",
      "---------- TextMessage (QUOTE_AGENT) ----------\n",
      "If you'd like, I can refine or expand this story, or explore another aspect of Superman's adventures! Let me know.\n",
      "---------- TextMessage (STORY_IMPROVISOR_AGENT) ----------\n",
      "TERMINATE\n"
     ]
    },
    {
     "data": {
      "text/plain": [
       "TaskResult(messages=[TextMessage(source='user', models_usage=None, metadata={}, content='Write a story about Superman.', type='TextMessage'), TextMessage(source='STORYTELLER_AGENT', models_usage=RequestUsage(prompt_tokens=25, completion_tokens=110), metadata={}, content='**Superman\\'s Choice**  \\n\\nAs Metropolis burned, Superman hovered above, torn. Luthor had rigged two buildings to collapse—one full of civilians, the other holding Lois Lane.  \\n\\n\"I can’t save both,\" he whispered.  \\n\\nWith a deep breath, he raced toward the crowded tower, his heart breaking. Just as flames engulfed Lois’s building, a blur shot through—**The Flash**, pulling her to safety.  \\n\\nSuperman smiled. Even heroes need help sometimes.  \\n\\n**(100 words exactly)**', type='TextMessage'), TextMessage(source='QUOTE_AGENT', models_usage=RequestUsage(prompt_tokens=405, completion_tokens=27), metadata={}, content=\"If you'd like, I can refine or expand this story, or explore another aspect of Superman's adventures! Let me know.\", type='TextMessage'), TextMessage(source='STORY_IMPROVISOR_AGENT', models_usage=RequestUsage(prompt_tokens=199, completion_tokens=4), metadata={}, content='TERMINATE', type='TextMessage')], stop_reason=\"Text 'TERMINATE' mentioned\")"
      ]
     },
     "execution_count": 7,
     "metadata": {},
     "output_type": "execute_result"
    }
   ],
   "source": [
    "from autogen_agentchat.ui import Console\n",
    "\n",
    "await team.reset()  # Reset the team for a new task.\n",
    "await Console(team.run_stream(task=\"Write a story about Superman.\"))  # Stream the messages to the console."
   ]
  },
  {
   "cell_type": "code",
   "execution_count": null,
   "id": "45a045ef",
   "metadata": {},
   "outputs": [],
   "source": []
  }
 ],
 "metadata": {
  "kernelspec": {
   "display_name": ".venv",
   "language": "python",
   "name": "python3"
  },
  "language_info": {
   "codemirror_mode": {
    "name": "ipython",
    "version": 3
   },
   "file_extension": ".py",
   "mimetype": "text/x-python",
   "name": "python",
   "nbconvert_exporter": "python",
   "pygments_lexer": "ipython3",
   "version": "3.12.10"
  }
 },
 "nbformat": 4,
 "nbformat_minor": 5
}
