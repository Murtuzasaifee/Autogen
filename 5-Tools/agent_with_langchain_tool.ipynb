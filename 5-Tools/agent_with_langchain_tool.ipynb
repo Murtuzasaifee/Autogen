{
 "cells": [
  {
   "cell_type": "code",
   "execution_count": 1,
   "id": "82394c02",
   "metadata": {},
   "outputs": [],
   "source": [
    "import os\n",
    "from dotenv import load_dotenv\n",
    "load_dotenv()\n",
    "api_key = os.getenv('OPENAI_API_KEY')\n",
    "serper_api_key = os.getenv('SERPER_API_KEY')"
   ]
  },
  {
   "cell_type": "code",
   "execution_count": 2,
   "id": "74f8420d",
   "metadata": {},
   "outputs": [],
   "source": [
    "from autogen_agentchat.agents import AssistantAgent\n",
    "from autogen_ext.models.openai import OpenAIChatCompletionClient\n",
    "\n",
    "# Create an instance of the OpenAIChatCompletionClient\n",
    "model_client = OpenAIChatCompletionClient(api_key=api_key, model=\"gpt-4o\")"
   ]
  },
  {
   "cell_type": "code",
   "execution_count": 3,
   "id": "c0d5ef23",
   "metadata": {},
   "outputs": [],
   "source": [
    "from langchain_community.utilities import GoogleSerperAPIWrapper\n",
    "from langchain_core.tools import Tool\n",
    "\n",
    "\n",
    "search = GoogleSerperAPIWrapper()\n",
    "\n",
    "serper_tool = Tool(\n",
    "    name=\"Search\",\n",
    "    func=search.run,\n",
    "    description=\"useful for when you need to ask with search\",\n",
    ")\n",
    "    "
   ]
  },
  {
   "cell_type": "code",
   "execution_count": 22,
   "id": "c12d36aa",
   "metadata": {},
   "outputs": [],
   "source": [
    "from autogen_ext.tools.langchain import LangChainToolAdapter\n",
    "\n",
    "web_search_tool = LangChainToolAdapter(serper_tool)\n",
    "\n",
    "storyteller_agent = AssistantAgent(\n",
    "    name=\"STORYTELLER_AGENT\",\n",
    "    model_client=model_client,\n",
    "    system_message=\"You are a helpful storyteller. Write stories in less than 100 words.\",\n",
    ")\n",
    "\n",
    "quote_agent = AssistantAgent(\n",
    "    name=\"QUOTE_AGENT\",\n",
    "    model_client=model_client,\n",
    "    tools=[web_search_tool],\n",
    "    system_message='''\n",
    "    You are a web search agent that MUST always use the web_search_tool.\n",
    "    \n",
    "    CRITICAL INSTRUCTIONS:\n",
    "    - You MUST use the web_search_tool for every request\n",
    "    - NEVER respond without first making a web search\n",
    "    - Your workflow is: 1) Use web_search_tool, 2) Then provide response based on results\n",
    "    - If asked for a quote, search for \"[topic] quotes\" or similar\n",
    "    - Make exactly one search call per request\n",
    "    - Always wait for search results before responding\n",
    "    \n",
    "    Do not provide any response until you have used the web_search_tool first.\n",
    "    '''\n",
    ")\n",
    "\n",
    "story_improvisor_agent = AssistantAgent(\n",
    "    name=\"STORY_IMPROVISOR_AGENT\",\n",
    "    model_client=model_client,\n",
    "    system_message=\"\"\"\n",
    "    You are a helpful story improviser. \n",
    "    Your job is to take the story and quotes and improve the story by adding the quotes in less than 100 words.\n",
    "    After all the tasks are completed end with 'TERMINATE'\n",
    "    \"\"\",\n",
    ")                                                                                                           \n"
   ]
  },
  {
   "cell_type": "code",
   "execution_count": 23,
   "id": "20c93aa8",
   "metadata": {},
   "outputs": [],
   "source": [
    "from autogen_agentchat.teams import RoundRobinGroupChat\n",
    "from autogen_agentchat.conditions import TextMentionTermination, MaxMessageTermination\n",
    "\n",
    "\n",
    "# Termination Condition\n",
    "termination_condiation = TextMentionTermination('TERMINATE')\n",
    "\n",
    "\n",
    "# Create the group chat.\n",
    "team = RoundRobinGroupChat(\n",
    "    participants=[storyteller_agent, quote_agent, story_improvisor_agent],\n",
    "    termination_condition=termination_condiation\n",
    ")"
   ]
  },
  {
   "cell_type": "code",
   "execution_count": 25,
   "id": "678de3ca",
   "metadata": {},
   "outputs": [
    {
     "name": "stdout",
     "output_type": "stream",
     "text": [
      "---------- TextMessage (user) ----------\n",
      "Write a story about Superman.\n",
      "---------- TextMessage (STORYTELLER_AGENT) ----------\n",
      "Superman soared over Metropolis, his cape a red trail against the evening sky. Below, chaos reigned as Lex Luthor had unleashed robotic minions to sow fear. With precision, Superman descended, dismantling each robot with swift blows. As Lex watched from his tower, a smirk faded to frustration; his plan was thwarted yet again.\n",
      "\n",
      "\"Why do you keep fighting, Superman?\" Lex taunted via hologram.\n",
      "\n",
      "\"Because hope never ends,\" Superman replied, eyes blazing with determination.\n",
      "\n",
      "With the city safe, Superman paused, gazing at the grateful faces below. For him, being a hero was instinctive—a reminder that even with power, kindness prevailed.\n",
      "---------- ToolCallRequestEvent (QUOTE_AGENT) ----------\n",
      "[FunctionCall(id='call_80iqR2oLsc76hLgSNRadUrgD', arguments='{\"query\":\"Superman story\"}', name='Search')]\n",
      "---------- ToolCallExecutionEvent (QUOTE_AGENT) ----------\n",
      "[FunctionExecutionResult(content=\"The origin of Superman and his superhuman powers have been a central narrative for Superman since his inception, with the story of the destruction of his home planet of Krypton, his arrival on Earth ... As a baby, his parents Jor-El and Lara sent him to Earth in a small spaceship shortly before Krypton was destroyed in a natural cataclysm. His ship landed in ... Let's dive into the Man of Steel's archives to track the evolution of his origin. When was Krypton first named? Basic story ; Superman is born Kal-El on the alien ; The spacecraft lands in the rural ; Clark keeps his powers secret in order to protect his family and friends, ... Superman is an American superhero created for DC Comics by writer Jerry Siegel and artist Joe Shuster. Superman first appeared in 1938, in Action Comics no. 1. Superman can access higher levels of power when he feels intense love or hope. He gets much stronger, and performs feats way beyond his usual ... I remember getting drunk, having a good cry, and blasting the Superman theme from my balcony the day Christopher Reeve passed away. As an adult, Superman became the protector of Earth, working at the Daily Planet as Clark Kent alongside his partner and wife Lois Lane. In 1938, two young men from Cleveland, Ohio create a character who would bring hope to the American people, the iconic superhero Superman. Christopher Reeve is to date the best Superman. He had something special that so far has not been replicated. He was a perfect blend of ... We know for a fact Superman won't be an origin story. Instead, the focus will be on how a young Clark Kent (aka Kal-El) balances his Kryptonian ...\", name='Search', call_id='call_80iqR2oLsc76hLgSNRadUrgD', is_error=False)]\n",
      "---------- ToolCallSummaryMessage (QUOTE_AGENT) ----------\n",
      "The origin of Superman and his superhuman powers have been a central narrative for Superman since his inception, with the story of the destruction of his home planet of Krypton, his arrival on Earth ... As a baby, his parents Jor-El and Lara sent him to Earth in a small spaceship shortly before Krypton was destroyed in a natural cataclysm. His ship landed in ... Let's dive into the Man of Steel's archives to track the evolution of his origin. When was Krypton first named? Basic story ; Superman is born Kal-El on the alien ; The spacecraft lands in the rural ; Clark keeps his powers secret in order to protect his family and friends, ... Superman is an American superhero created for DC Comics by writer Jerry Siegel and artist Joe Shuster. Superman first appeared in 1938, in Action Comics no. 1. Superman can access higher levels of power when he feels intense love or hope. He gets much stronger, and performs feats way beyond his usual ... I remember getting drunk, having a good cry, and blasting the Superman theme from my balcony the day Christopher Reeve passed away. As an adult, Superman became the protector of Earth, working at the Daily Planet as Clark Kent alongside his partner and wife Lois Lane. In 1938, two young men from Cleveland, Ohio create a character who would bring hope to the American people, the iconic superhero Superman. Christopher Reeve is to date the best Superman. He had something special that so far has not been replicated. He was a perfect blend of ... We know for a fact Superman won't be an origin story. Instead, the focus will be on how a young Clark Kent (aka Kal-El) balances his Kryptonian ...\n",
      "---------- TextMessage (STORY_IMPROVISOR_AGENT) ----------\n",
      "Superman soared confidently over Metropolis, his cape a crimson trail against the evening sky. Among the chaos unleashed by Lex Luthor’s robotic minions, memories of his origins crossed Superman's mind. Born Kal-El on the doomed planet Krypton, he was sent to Earth by his parents, Jor-El and Lara. \"Hope never ends,\" Superman murmured, recalling the message that had resonated ever since he first appeared in 1938 as a beacon of hope. \n",
      "\n",
      "With each surge of love or hope, his strength magnified, eclipsing Lex’s futile attempts. The legacy of creators Jerry Siegel and Joe Shuster lived on, embodied in Superman's eternal drive to protect Earth.  \n",
      "\n",
      "TERMINATE\n"
     ]
    },
    {
     "data": {
      "text/plain": [
       "TaskResult(messages=[TextMessage(source='user', models_usage=None, metadata={}, content='Write a story about Superman.', type='TextMessage'), TextMessage(source='STORYTELLER_AGENT', models_usage=RequestUsage(prompt_tokens=33, completion_tokens=136), metadata={}, content='Superman soared over Metropolis, his cape a red trail against the evening sky. Below, chaos reigned as Lex Luthor had unleashed robotic minions to sow fear. With precision, Superman descended, dismantling each robot with swift blows. As Lex watched from his tower, a smirk faded to frustration; his plan was thwarted yet again.\\n\\n\"Why do you keep fighting, Superman?\" Lex taunted via hologram.\\n\\n\"Because hope never ends,\" Superman replied, eyes blazing with determination.\\n\\nWith the city safe, Superman paused, gazing at the grateful faces below. For him, being a hero was instinctive—a reminder that even with power, kindness prevailed.', type='TextMessage'), ToolCallRequestEvent(source='QUOTE_AGENT', models_usage=RequestUsage(prompt_tokens=329, completion_tokens=15), metadata={}, content=[FunctionCall(id='call_80iqR2oLsc76hLgSNRadUrgD', arguments='{\"query\":\"Superman story\"}', name='Search')], type='ToolCallRequestEvent'), ToolCallExecutionEvent(source='QUOTE_AGENT', models_usage=None, metadata={}, content=[FunctionExecutionResult(content=\"The origin of Superman and his superhuman powers have been a central narrative for Superman since his inception, with the story of the destruction of his home planet of Krypton, his arrival on Earth ... As a baby, his parents Jor-El and Lara sent him to Earth in a small spaceship shortly before Krypton was destroyed in a natural cataclysm. His ship landed in ... Let's dive into the Man of Steel's archives to track the evolution of his origin. When was Krypton first named? Basic story ; Superman is born Kal-El on the alien ; The spacecraft lands in the rural ; Clark keeps his powers secret in order to protect his family and friends, ... Superman is an American superhero created for DC Comics by writer Jerry Siegel and artist Joe Shuster. Superman first appeared in 1938, in Action Comics no. 1. Superman can access higher levels of power when he feels intense love or hope. He gets much stronger, and performs feats way beyond his usual ... I remember getting drunk, having a good cry, and blasting the Superman theme from my balcony the day Christopher Reeve passed away. As an adult, Superman became the protector of Earth, working at the Daily Planet as Clark Kent alongside his partner and wife Lois Lane. In 1938, two young men from Cleveland, Ohio create a character who would bring hope to the American people, the iconic superhero Superman. Christopher Reeve is to date the best Superman. He had something special that so far has not been replicated. He was a perfect blend of ... We know for a fact Superman won't be an origin story. Instead, the focus will be on how a young Clark Kent (aka Kal-El) balances his Kryptonian ...\", name='Search', call_id='call_80iqR2oLsc76hLgSNRadUrgD', is_error=False)], type='ToolCallExecutionEvent'), ToolCallSummaryMessage(source='QUOTE_AGENT', models_usage=None, metadata={}, content=\"The origin of Superman and his superhuman powers have been a central narrative for Superman since his inception, with the story of the destruction of his home planet of Krypton, his arrival on Earth ... As a baby, his parents Jor-El and Lara sent him to Earth in a small spaceship shortly before Krypton was destroyed in a natural cataclysm. His ship landed in ... Let's dive into the Man of Steel's archives to track the evolution of his origin. When was Krypton first named? Basic story ; Superman is born Kal-El on the alien ; The spacecraft lands in the rural ; Clark keeps his powers secret in order to protect his family and friends, ... Superman is an American superhero created for DC Comics by writer Jerry Siegel and artist Joe Shuster. Superman first appeared in 1938, in Action Comics no. 1. Superman can access higher levels of power when he feels intense love or hope. He gets much stronger, and performs feats way beyond his usual ... I remember getting drunk, having a good cry, and blasting the Superman theme from my balcony the day Christopher Reeve passed away. As an adult, Superman became the protector of Earth, working at the Daily Planet as Clark Kent alongside his partner and wife Lois Lane. In 1938, two young men from Cleveland, Ohio create a character who would bring hope to the American people, the iconic superhero Superman. Christopher Reeve is to date the best Superman. He had something special that so far has not been replicated. He was a perfect blend of ... We know for a fact Superman won't be an origin story. Instead, the focus will be on how a young Clark Kent (aka Kal-El) balances his Kryptonian ...\", type='ToolCallSummaryMessage'), TextMessage(source='STORY_IMPROVISOR_AGENT', models_usage=RequestUsage(prompt_tokens=567, completion_tokens=145), metadata={}, content='Superman soared confidently over Metropolis, his cape a crimson trail against the evening sky. Among the chaos unleashed by Lex Luthor’s robotic minions, memories of his origins crossed Superman\\'s mind. Born Kal-El on the doomed planet Krypton, he was sent to Earth by his parents, Jor-El and Lara. \"Hope never ends,\" Superman murmured, recalling the message that had resonated ever since he first appeared in 1938 as a beacon of hope. \\n\\nWith each surge of love or hope, his strength magnified, eclipsing Lex’s futile attempts. The legacy of creators Jerry Siegel and Joe Shuster lived on, embodied in Superman\\'s eternal drive to protect Earth.  \\n\\nTERMINATE', type='TextMessage')], stop_reason=\"Text 'TERMINATE' mentioned\")"
      ]
     },
     "execution_count": 25,
     "metadata": {},
     "output_type": "execute_result"
    }
   ],
   "source": [
    "from autogen_agentchat.ui import Console\n",
    "\n",
    "await team.reset()  # Reset the team for a new task.\n",
    "await Console(team.run_stream(task=\"Write a story about Superman.\"))  # Stream the messages to the console."
   ]
  },
  {
   "cell_type": "code",
   "execution_count": null,
   "id": "45a045ef",
   "metadata": {},
   "outputs": [],
   "source": []
  }
 ],
 "metadata": {
  "kernelspec": {
   "display_name": ".venv",
   "language": "python",
   "name": "python3"
  },
  "language_info": {
   "codemirror_mode": {
    "name": "ipython",
    "version": 3
   },
   "file_extension": ".py",
   "mimetype": "text/x-python",
   "name": "python",
   "nbconvert_exporter": "python",
   "pygments_lexer": "ipython3",
   "version": "3.12.10"
  }
 },
 "nbformat": 4,
 "nbformat_minor": 5
}
