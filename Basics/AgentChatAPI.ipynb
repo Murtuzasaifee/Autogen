{
 "cells": [
  {
   "cell_type": "code",
   "execution_count": 3,
   "id": "bf73f103",
   "metadata": {},
   "outputs": [],
   "source": [
    "import os\n",
    "from dotenv import load_dotenv\n",
    "load_dotenv()\n",
    "api_key = os.getenv('OPENAI_API_KEY')"
   ]
  },
  {
   "cell_type": "code",
   "execution_count": 5,
   "id": "5ccd3b60",
   "metadata": {},
   "outputs": [],
   "source": [
    "from autogen_agentchat.agents import AssistantAgent\n",
    "from autogen_ext.models.openai import OpenAIChatCompletionClient\n",
    "\n",
    "# Create an instance of the OpenAIChatCompletionClient\n",
    "model_client = OpenAIChatCompletionClient(api_key=api_key, model=\"gpt-4o\")"
   ]
  },
  {
   "cell_type": "markdown",
   "id": "9beea582",
   "metadata": {},
   "source": [
    "## Multi Model Chat"
   ]
  },
  {
   "cell_type": "code",
   "execution_count": 8,
   "id": "0abf145e",
   "metadata": {},
   "outputs": [
    {
     "data": {
      "text/plain": [
       "'```json\\n{\\n  \"description\": \"The image shows a laptop with a silver body on a wooden surface. The screen is blank, and the keyboard features black keys.\"\\n}\\n```'"
      ]
     },
     "execution_count": 8,
     "metadata": {},
     "output_type": "execute_result"
    }
   ],
   "source": [
    "from io import BytesIO\n",
    "\n",
    "import requests\n",
    "from autogen_agentchat.messages import MultiModalMessage\n",
    "from autogen_core import Image as AGImage\n",
    "from PIL import Image\n",
    "\n",
    "assistant_1 = AssistantAgent(name='assistant',\n",
    "                           model_client=model_client,\n",
    "                           description=\"Give output in JSON\",\n",
    "                           system_message=\"You are a helpful assistant that provides accurate information about history.Give output in JSON\"\n",
    "                           )\n",
    "\n",
    "pil_image = Image.open(BytesIO(requests.get(\"https://picsum.photos/id/9/200/400\").content))\n",
    "img = AGImage(pil_image)\n",
    "\n",
    "multi_model_message = MultiModalMessage(\n",
    "    content = ['What is there in the image?',img],\n",
    "    source=\"User\"\n",
    ")\n",
    "\n",
    "result = await assistant_1.run(task=multi_model_message)\n",
    "result.messages[-1].content"
   ]
  },
  {
   "cell_type": "code",
   "execution_count": 10,
   "id": "25f393e4",
   "metadata": {},
   "outputs": [
    {
     "data": {
      "text/plain": [
       "'```json\\n{\\n  \"question\": \"What is there in the image?\"\\n}\\n```'"
      ]
     },
     "execution_count": 10,
     "metadata": {},
     "output_type": "execute_result"
    }
   ],
   "source": [
    "## Previous message history is also stored in the Agent memory\n",
    "\n",
    "result = await assistant_1.run(task=\"What I asked you in the last question?\")\n",
    "result.messages[-1].content"
   ]
  },
  {
   "cell_type": "markdown",
   "id": "b87c6808",
   "metadata": {},
   "source": [
    "## Agent With Tool"
   ]
  },
  {
   "cell_type": "code",
   "execution_count": 11,
   "id": "f5c5c276",
   "metadata": {},
   "outputs": [
    {
     "data": {
      "text/plain": [
       "'The weather in Delhi is sunny with a temperature of 25°C.'"
      ]
     },
     "execution_count": 11,
     "metadata": {},
     "output_type": "execute_result"
    }
   ],
   "source": [
    "def get_weather(city:str)->str:\n",
    "    # Simulate a weather API call\n",
    "    return f\"The weather in {city} is sunny with a temperature of 25°C.\"\n",
    "\n",
    "\n",
    "weather_agent = AssistantAgent(\n",
    "    name='weather_agent',\n",
    "    model_client=model_client,\n",
    "    description=\"You are a weather assistant that provides accurate weather information.\",\n",
    "    system_message=\"You are a helpful assistant that provides accurate weather information by using the get_weather.\",\n",
    "    tools=[get_weather]\n",
    ")\n",
    "\n",
    "result = await weather_agent.run(task=\"What is the weather in Delhi?\")\n",
    "result.messages[-1].content\n"
   ]
  },
  {
   "cell_type": "code",
   "execution_count": null,
   "id": "ccbb69ec",
   "metadata": {},
   "outputs": [],
   "source": []
  }
 ],
 "metadata": {
  "kernelspec": {
   "display_name": ".venv",
   "language": "python",
   "name": "python3"
  },
  "language_info": {
   "codemirror_mode": {
    "name": "ipython",
    "version": 3
   },
   "file_extension": ".py",
   "mimetype": "text/x-python",
   "name": "python",
   "nbconvert_exporter": "python",
   "pygments_lexer": "ipython3",
   "version": "3.12.10"
  }
 },
 "nbformat": 4,
 "nbformat_minor": 5
}
