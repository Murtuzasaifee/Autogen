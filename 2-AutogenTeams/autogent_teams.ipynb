{
 "cells": [
  {
   "cell_type": "markdown",
   "id": "01098ba6",
   "metadata": {},
   "source": [
    "## Autogen Team"
   ]
  },
  {
   "cell_type": "code",
   "execution_count": 1,
   "id": "b9ee86be",
   "metadata": {},
   "outputs": [],
   "source": [
    "import os\n",
    "from dotenv import load_dotenv\n",
    "load_dotenv()\n",
    "api_key = os.getenv('OPENAI_API_KEY')"
   ]
  },
  {
   "cell_type": "code",
   "execution_count": 2,
   "id": "4688ff79",
   "metadata": {},
   "outputs": [],
   "source": [
    "from autogen_agentchat.agents import AssistantAgent\n",
    "from autogen_ext.models.openai import OpenAIChatCompletionClient\n",
    "\n",
    "# Create an instance of the OpenAIChatCompletionClient\n",
    "model_client = OpenAIChatCompletionClient(api_key=api_key, model=\"gpt-4o\")"
   ]
  },
  {
   "cell_type": "code",
   "execution_count": null,
   "id": "63e4c303",
   "metadata": {},
   "outputs": [
    {
     "name": "stdout",
     "output_type": "stream",
     "text": [
      "User  : Write a simple Hello world code ?\n",
      "\n",
      " \n",
      "\n",
      "CODING_AGENT  : Sure! Here is a simple \"Hello, World!\" program in Python:\n",
      "\n",
      "```python\n",
      "print(\"Hello, World!\")\n",
      "```\n",
      "\n",
      "Simply run this code in a Python environment to see \"Hello, World!\" printed to the console.\n",
      "\n",
      " \n",
      "\n",
      "TESTING_AGENT  : You can run the code by saving it to a file with a `.py` extension, such as `hello_world.py`, and then executing it in a terminal or command line with the command:\n",
      "\n",
      "```bash\n",
      "python hello_world.py\n",
      "```\n",
      "\n",
      "This will output:\n",
      "\n",
      "```\n",
      "Hello, World!\n",
      "```\n",
      "\n",
      " \n",
      "\n",
      "CODING_EDITOR_AGENT  : If you're using an interactive Python session, like a Jupyter Notebook or an IDE with an integrated console, you can simply enter:\n",
      "\n",
      "```python\n",
      "print(\"Hello, World!\")\n",
      "```\n",
      "\n",
      "After executing, it will display:\n",
      "\n",
      "```\n",
      "Hello, World!\n",
      "``` \n",
      "\n",
      "This is a fundamental example to demonstrate basic syntax in Python.\n",
      "\n",
      " \n",
      "\n"
     ]
    }
   ],
   "source": [
    "from autogen_agentchat.teams import RoundRobinGroupChat\n",
    "from autogen_agentchat.base import TaskResult\n",
    "from autogen_agentchat.messages import TextMessage\n",
    "\n",
    "\n",
    "# Create the coding agent.\n",
    "coding_agent = AssistantAgent(\n",
    "    name=\"CODING_AGENT\",\n",
    "    model_client=model_client,\n",
    "    system_message=\"You are a helpful AI assistant expert in the Python Programming. Generate the code for the task.\",\n",
    ")\n",
    "\n",
    "# Create the testing agent.\n",
    "testing_agent = AssistantAgent(\n",
    "    name=\"TESTING_AGENT\",\n",
    "    model_client=model_client,\n",
    "    system_message=\"You are a helpful AI assistant expert in the Python Programming. Test the code for the task.\",\n",
    ")                                                                                                           \n",
    "\n",
    "# Create the coding editor agent.\n",
    "coding_editor_agent = AssistantAgent(\n",
    "    name=\"CODING_EDITOR_AGENT\",\n",
    "    model_client=model_client,\n",
    "    system_message=\"You are a helpful AI assistant expert in the Python Programming. Edit the code for the task.\",\n",
    ")\n",
    "\n",
    "# Create the group chat.\n",
    "team = RoundRobinGroupChat(\n",
    "    participants=[coding_agent, testing_agent, coding_editor_agent],\n",
    "    max_turns=3, # Maximum number of messages/turn use by the agents combining in a team.\n",
    ")\n",
    "\n",
    "async def test_team():\n",
    "    task = TextMessage(content='Write a simple Hello world code ?',source='User')\n",
    "    \n",
    "    result = await team.run(task=task)\n",
    "\n",
    "    for each_agent_message in result.messages:\n",
    "        print(f'{each_agent_message.source}  : {each_agent_message.content}' )\n",
    "        print('\\n \\n')\n",
    "\n",
    "\n",
    "await test_team()\n"
   ]
  },
  {
   "cell_type": "code",
   "execution_count": 5,
   "id": "b10f3c8b",
   "metadata": {},
   "outputs": [
    {
     "name": "stdout",
     "output_type": "stream",
     "text": [
      "source='user' models_usage=None metadata={} content='Write a simple Hello world code ?' type='TextMessage'\n",
      "source='CODING_AGENT' models_usage=RequestUsage(prompt_tokens=38, completion_tokens=53) metadata={} content='Certainly! Here is a simple Python program that prints \"Hello, World!\" to the console:\\n\\n```python\\nprint(\"Hello, World!\")\\n```\\n\\nThis line of code uses the `print()` function to output the text \"Hello, World!\" to the console.' type='TextMessage'\n",
      "source='TESTING_AGENT' models_usage=RequestUsage(prompt_tokens=99, completion_tokens=248) metadata={} content='To test the provided code, you can follow these steps:\\n\\n1. **Set Up a Python Environment:**\\n   - Make sure Python is installed on your system. You can download it from [python.org](https://www.python.org/downloads/) if it\\'s not already installed.\\n\\n2. **Create a Python File:**\\n   - Open a text editor (like Notepad, Sublime Text, VSCode, or PyCharm) and create a new file.\\n   - Copy and paste the code into this file:\\n\\n     ```python\\n     print(\"Hello, World!\")\\n     ```\\n\\n   - Save the file with a `.py` extension, for example, `hello_world.py`.\\n\\n3. **Run the Python File:**\\n   - Open a terminal or command prompt.\\n   - Navigate to the directory where your Python file is saved.\\n   - Run the script by typing `python hello_world.py` and pressing Enter.\\n\\n4. **Check the Output:**\\n   - You should see the following output in the terminal:\\n\\n     ```\\n     Hello, World!\\n     ```\\n\\nThis output confirms that the code is working correctly. It prints \"Hello, World!\" to the console as expected. Let me know if you have further questions!' type='TextMessage'\n",
      "source='CODING_EDITOR_AGENT' models_usage=RequestUsage(prompt_tokens=355, completion_tokens=48) metadata={} content='If you are facing any issues with the setup or execution, feel free to ask for further guidance. The code provided should work flawlessly with the steps outlined. If you have any modifications or additional features in mind, I am here to help!' type='TextMessage'\n",
      "Stop Reason: Maximum number of turns 3 reached.\n"
     ]
    }
   ],
   "source": [
    "## Stream the result\n",
    "from autogen_agentchat.base import TaskResult\n",
    "await team.reset()  # Reset the team for a new task.\n",
    "async for message in team.run_stream(task=\"Write a simple Hello world code ?\"):  # type: ignore\n",
    "    if isinstance(message, TaskResult):\n",
    "        print(\"Stop Reason:\", message.stop_reason)\n",
    "    else:\n",
    "        print(message)"
   ]
  },
  {
   "cell_type": "code",
   "execution_count": 6,
   "id": "73101c5c",
   "metadata": {},
   "outputs": [
    {
     "name": "stdout",
     "output_type": "stream",
     "text": [
      "---------- TextMessage (user) ----------\n",
      "Write a simple Hello world code ?\n",
      "---------- TextMessage (CODING_AGENT) ----------\n",
      "Certainly! Here's a simple \"Hello, World!\" program in Python:\n",
      "\n",
      "```python\n",
      "# This is a simple Python program that prints \"Hello, World!\" to the console.\n",
      "def main():\n",
      "    print(\"Hello, World!\")\n",
      "\n",
      "if __name__ == \"__main__\":\n",
      "    main()\n",
      "```\n",
      "\n",
      "You can run this code in any Python environment to see the output.\n",
      "---------- TextMessage (TESTING_AGENT) ----------\n",
      "To run this simple \"Hello, World!\" program, save the code in a file with a `.py` extension, for example `hello_world.py`, and then execute it using a Python interpreter. Open a terminal or command prompt, navigate to the directory where your file is saved, and run the following command:\n",
      "\n",
      "```bash\n",
      "python hello_world.py\n",
      "```\n",
      "\n",
      "You should see the output:\n",
      "\n",
      "```\n",
      "Hello, World!\n",
      "```\n",
      "\n",
      "This confirms that your \"Hello, World!\" program is working correctly.\n",
      "---------- TextMessage (CODING_EDITOR_AGENT) ----------\n",
      "If you're using Python 3.x, make sure to use the `python3` command to avoid any confusion with Python 2.x. Here's how you would run it:\n",
      "\n",
      "```bash\n",
      "python3 hello_world.py\n",
      "```\n",
      "\n",
      "This will ensure that you're running the program with Python 3. Once executed, you should see the expected output:\n",
      "\n",
      "```\n",
      "Hello, World!\n",
      "```\n",
      "\n",
      "If you have any questions or need further assistance, feel free to ask!\n"
     ]
    },
    {
     "data": {
      "text/plain": [
       "TaskResult(messages=[TextMessage(source='user', models_usage=None, metadata={}, content='Write a simple Hello world code ?', type='TextMessage'), TextMessage(source='CODING_AGENT', models_usage=RequestUsage(prompt_tokens=38, completion_tokens=72), metadata={}, content='Certainly! Here\\'s a simple \"Hello, World!\" program in Python:\\n\\n```python\\n# This is a simple Python program that prints \"Hello, World!\" to the console.\\ndef main():\\n    print(\"Hello, World!\")\\n\\nif __name__ == \"__main__\":\\n    main()\\n```\\n\\nYou can run this code in any Python environment to see the output.', type='TextMessage'), TextMessage(source='TESTING_AGENT', models_usage=RequestUsage(prompt_tokens=118, completion_tokens=101), metadata={}, content='To run this simple \"Hello, World!\" program, save the code in a file with a `.py` extension, for example `hello_world.py`, and then execute it using a Python interpreter. Open a terminal or command prompt, navigate to the directory where your file is saved, and run the following command:\\n\\n```bash\\npython hello_world.py\\n```\\n\\nYou should see the output:\\n\\n```\\nHello, World!\\n```\\n\\nThis confirms that your \"Hello, World!\" program is working correctly.', type='TextMessage'), TextMessage(source='CODING_EDITOR_AGENT', models_usage=RequestUsage(prompt_tokens=227, completion_tokens=92), metadata={}, content=\"If you're using Python 3.x, make sure to use the `python3` command to avoid any confusion with Python 2.x. Here's how you would run it:\\n\\n```bash\\npython3 hello_world.py\\n```\\n\\nThis will ensure that you're running the program with Python 3. Once executed, you should see the expected output:\\n\\n```\\nHello, World!\\n```\\n\\nIf you have any questions or need further assistance, feel free to ask!\", type='TextMessage')], stop_reason='Maximum number of turns 3 reached.')"
      ]
     },
     "execution_count": 6,
     "metadata": {},
     "output_type": "execute_result"
    }
   ],
   "source": [
    "from autogen_agentchat.ui import Console\n",
    "\n",
    "await team.reset()  # Reset the team for a new task.\n",
    "await Console(team.run_stream(task=\"Write a simple Hello world code ?\"))  # Stream the messages to the console.\n"
   ]
  },
  {
   "cell_type": "code",
   "execution_count": null,
   "id": "77a12936",
   "metadata": {},
   "outputs": [],
   "source": [
    "                                                                            "
   ]
  },
  {
   "cell_type": "code",
   "execution_count": null,
   "id": "ac096c77",
   "metadata": {},
   "outputs": [],
   "source": []
  }
 ],
 "metadata": {
  "kernelspec": {
   "display_name": ".venv",
   "language": "python",
   "name": "python3"
  },
  "language_info": {
   "codemirror_mode": {
    "name": "ipython",
    "version": 3
   },
   "file_extension": ".py",
   "mimetype": "text/x-python",
   "name": "python",
   "nbconvert_exporter": "python",
   "pygments_lexer": "ipython3",
   "version": "3.12.10"
  }
 },
 "nbformat": 4,
 "nbformat_minor": 5
}
