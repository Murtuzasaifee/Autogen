{
 "cells": [
  {
   "cell_type": "code",
   "execution_count": 8,
   "id": "98659a71",
   "metadata": {},
   "outputs": [],
   "source": [
    "from autogen_core.models import UserMessage\n",
    "from autogen_ext.models.ollama import OllamaChatCompletionClient\n",
    "import asyncio\n",
    "\n",
    "ollama_model_client = OllamaChatCompletionClient(model='llama3.2')"
   ]
  },
  {
   "cell_type": "code",
   "execution_count": 9,
   "id": "de1bb2f6",
   "metadata": {},
   "outputs": [
    {
     "data": {
      "text/plain": [
       "<coroutine object main at 0x11243e340>"
      ]
     },
     "execution_count": 9,
     "metadata": {},
     "output_type": "execute_result"
    }
   ],
   "source": [
    "async def main():\n",
    "    response = await ollama_model_client.create(UserMessage(content='Hello, how are you?',source='user'))\n",
    "    print(response)\n",
    "    await ollama_model_client.close()\n",
    "\n",
    "main()"
   ]
  },
  {
   "cell_type": "markdown",
   "id": "39d39407",
   "metadata": {},
   "source": [
    "# First Autogen Agent"
   ]
  },
  {
   "cell_type": "code",
   "execution_count": 11,
   "id": "032a277c",
   "metadata": {},
   "outputs": [],
   "source": [
    "from autogen_agentchat.agents import AssistantAgent\n",
    "from autogen_ext.models.openai import OpenAIChatCompletionClient\n",
    "from dotenv import load_dotenv\n",
    "import os\n",
    "load_dotenv()\n",
    "api_key = os.getenv('OPENAI_API_KEY')"
   ]
  },
  {
   "cell_type": "code",
   "execution_count": 12,
   "id": "27ce0f33",
   "metadata": {},
   "outputs": [],
   "source": [
    "model_client = OpenAIChatCompletionClient(model='gpt-4o',api_key=api_key)"
   ]
  },
  {
   "cell_type": "code",
   "execution_count": 13,
   "id": "aca31f09",
   "metadata": {},
   "outputs": [],
   "source": [
    "first_agent = AssistantAgent(name = 'First_Agent',model_client=model_client,system_message='You are a helpful assistant, give reply in JSON')"
   ]
  },
  {
   "cell_type": "code",
   "execution_count": 15,
   "id": "194175bb",
   "metadata": {},
   "outputs": [
    {
     "name": "stdout",
     "output_type": "stream",
     "text": [
      "messages=[TextMessage(source='user', models_usage=None, metadata={}, content='Tell me a joke', type='TextMessage'), TextMessage(source='First_Agent', models_usage=RequestUsage(prompt_tokens=26, completion_tokens=24), metadata={}, content='```json\\n{\\n  \"joke\": \"Why don\\'t scientists trust atoms? Because they make up everything!\"\\n}\\n```', type='TextMessage')] stop_reason=None\n"
     ]
    }
   ],
   "source": [
    "result = await first_agent.run(task='Tell me a joke')\n",
    "print(result)"
   ]
  },
  {
   "cell_type": "code",
   "execution_count": 16,
   "id": "7af6ff7b",
   "metadata": {},
   "outputs": [
    {
     "data": {
      "text/plain": [
       "'```json\\n{\\n  \"joke\": \"Why don\\'t scientists trust atoms? Because they make up everything!\"\\n}\\n```'"
      ]
     },
     "execution_count": 16,
     "metadata": {},
     "output_type": "execute_result"
    }
   ],
   "source": [
    "result.messages[-1].content"
   ]
  },
  {
   "cell_type": "code",
   "execution_count": 18,
   "id": "e5d8bcc6",
   "metadata": {},
   "outputs": [
    {
     "name": "stdout",
     "output_type": "stream",
     "text": [
      "```json\n",
      "{\n",
      "  \"result\": 110\n",
      "}\n",
      "```\n"
     ]
    }
   ],
   "source": [
    "result = await first_agent.run(task='What is 5+105')\n",
    "print(result.messages[-1].content)"
   ]
  },
  {
   "cell_type": "code",
   "execution_count": null,
   "id": "dce795f9",
   "metadata": {},
   "outputs": [],
   "source": []
  }
 ],
 "metadata": {
  "kernelspec": {
   "display_name": ".venv",
   "language": "python",
   "name": "python3"
  },
  "language_info": {
   "codemirror_mode": {
    "name": "ipython",
    "version": 3
   },
   "file_extension": ".py",
   "mimetype": "text/x-python",
   "name": "python",
   "nbconvert_exporter": "python",
   "pygments_lexer": "ipython3",
   "version": "3.12.10"
  }
 },
 "nbformat": 4,
 "nbformat_minor": 5
}
