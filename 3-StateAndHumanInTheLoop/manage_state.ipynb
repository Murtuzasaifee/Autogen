{
 "cells": [
  {
   "cell_type": "code",
   "execution_count": 1,
   "id": "f48298ae",
   "metadata": {},
   "outputs": [],
   "source": [
    "import os\n",
    "from dotenv import load_dotenv\n",
    "load_dotenv()\n",
    "api_key = os.getenv('OPENAI_API_KEY')"
   ]
  },
  {
   "cell_type": "code",
   "execution_count": null,
   "id": "c0d46356",
   "metadata": {},
   "outputs": [],
   "source": [
    "from autogen_agentchat.agents import AssistantAgent\n",
    "from autogen_ext.models.openai import OpenAIChatCompletionClient\n",
    "\n",
    "# Create an instance of the OpenAIChatCompletionClient\n",
    "model_client = OpenAIChatCompletionClient(api_key=api_key, model=\"gpt-4o\")"
   ]
  },
  {
   "cell_type": "code",
   "execution_count": 3,
   "id": "ce515477",
   "metadata": {},
   "outputs": [],
   "source": [
    "from autogen_agentchat.conditions import MaxMessageTermination\n",
    "from autogen_agentchat.teams import RoundRobinGroupChat\n",
    "\n",
    "agent_1 = AssistantAgent(\n",
    "    name='Writer_1',\n",
    "    model_client=model_client,\n",
    "    system_message=\"You are a helpful assistant. Give the output in less than 30 words\",\n",
    ")\n",
    "\n",
    "agent_2 = AssistantAgent(\n",
    "    name='Writer_2',\n",
    "    model_client=model_client,\n",
    "    system_message=\"You are a helpful assistant.Give the output in less than 30 words\",\n",
    ")\n",
    "\n",
    "terminationCondition = MaxMessageTermination(max_messages=3) \n",
    "\n",
    "agent_team = RoundRobinGroupChat(participants=[agent_1, agent_2],termination_condition=terminationCondition)"
   ]
  },
  {
   "cell_type": "code",
   "execution_count": 4,
   "id": "81ec9c8e",
   "metadata": {},
   "outputs": [
    {
     "name": "stdout",
     "output_type": "stream",
     "text": [
      "---------- TextMessage (user) ----------\n",
      "Write a poem about sea in 3 lines\n",
      "---------- TextMessage (Writer_1) ----------\n",
      "Endless waves whisper,  \n",
      "Salt-kissed breezes gently dance,  \n",
      "Deep blue secrets hide.\n",
      "---------- TextMessage (Writer_2) ----------\n",
      "Waves crash on the shore,  \n",
      "Whispers of stories untold,  \n",
      "Ocean's vast embrace.\n"
     ]
    },
    {
     "data": {
      "text/plain": [
       "TaskResult(messages=[TextMessage(source='user', models_usage=None, metadata={}, content='Write a poem about sea in 3 lines', type='TextMessage'), TextMessage(source='Writer_1', models_usage=RequestUsage(prompt_tokens=36, completion_tokens=20), metadata={}, content='Endless waves whisper,  \\nSalt-kissed breezes gently dance,  \\nDeep blue secrets hide.', type='TextMessage'), TextMessage(source='Writer_2', models_usage=RequestUsage(prompt_tokens=64, completion_tokens=21), metadata={}, content=\"Waves crash on the shore,  \\nWhispers of stories untold,  \\nOcean's vast embrace.\", type='TextMessage')], stop_reason='Maximum number of messages 3 reached, current message count: 3')"
      ]
     },
     "execution_count": 4,
     "metadata": {},
     "output_type": "execute_result"
    }
   ],
   "source": [
    "from autogen_agentchat.ui import Console\n",
    "stream = agent_team.run_stream(task = 'Write a poem about sea in 3 lines')\n",
    "\n",
    "await Console(stream)"
   ]
  },
  {
   "cell_type": "code",
   "execution_count": 5,
   "id": "e22a9f62",
   "metadata": {},
   "outputs": [],
   "source": [
    "team_state = await agent_team.save_state()"
   ]
  },
  {
   "cell_type": "code",
   "execution_count": 6,
   "id": "a3326876",
   "metadata": {},
   "outputs": [],
   "source": [
    "await agent_team.reset()"
   ]
  },
  {
   "cell_type": "code",
   "execution_count": 7,
   "id": "edf02496",
   "metadata": {},
   "outputs": [
    {
     "name": "stdout",
     "output_type": "stream",
     "text": [
      "---------- TextMessage (user) ----------\n",
      "What was the last line of the poem you wrote \n",
      "---------- TextMessage (Writer_1) ----------\n",
      "I'm unable to generate or recall previous interactions or content. Could you please provide more details or context about the poem?\n",
      "---------- TextMessage (Writer_2) ----------\n",
      "I'm sorry, I can't recall or retrieve past interactions or content. Could you specify which poem you are referring to or provide more information?\n"
     ]
    },
    {
     "data": {
      "text/plain": [
       "TaskResult(messages=[TextMessage(source='user', models_usage=None, metadata={}, content='What was the last line of the poem you wrote ', type='TextMessage'), TextMessage(source='Writer_1', models_usage=RequestUsage(prompt_tokens=38, completion_tokens=23), metadata={}, content=\"I'm unable to generate or recall previous interactions or content. Could you please provide more details or context about the poem?\", type='TextMessage'), TextMessage(source='Writer_2', models_usage=RequestUsage(prompt_tokens=69, completion_tokens=27), metadata={}, content=\"I'm sorry, I can't recall or retrieve past interactions or content. Could you specify which poem you are referring to or provide more information?\", type='TextMessage')], stop_reason='Maximum number of messages 3 reached, current message count: 3')"
      ]
     },
     "execution_count": 7,
     "metadata": {},
     "output_type": "execute_result"
    }
   ],
   "source": [
    "stream = agent_team.run_stream(task = 'What was the last line of the poem you wrote ')\n",
    "\n",
    "await Console(stream)"
   ]
  },
  {
   "cell_type": "code",
   "execution_count": null,
   "id": "ad084355",
   "metadata": {},
   "outputs": [
    {
     "name": "stdout",
     "output_type": "stream",
     "text": [
      "---------- TextMessage (user) ----------\n",
      "What was the last line of the poem you wrote \n",
      "---------- TextMessage (Writer_1) ----------\n",
      "\"Deep blue secrets hide.\"\n",
      "---------- TextMessage (Writer_2) ----------\n",
      "The last line I wrote was \"Ocean's vast embrace.\"\n"
     ]
    },
    {
     "data": {
      "text/plain": [
       "TaskResult(messages=[TextMessage(source='user', models_usage=None, metadata={}, content='What was the last line of the poem you wrote ', type='TextMessage'), TextMessage(source='Writer_1', models_usage=RequestUsage(prompt_tokens=105, completion_tokens=6), metadata={}, content='\"Deep blue secrets hide.\"', type='TextMessage'), TextMessage(source='Writer_2', models_usage=RequestUsage(prompt_tokens=119, completion_tokens=12), metadata={}, content='The last line I wrote was \"Ocean\\'s vast embrace.\"', type='TextMessage')], stop_reason='Maximum number of messages 3 reached, current message count: 3')"
      ]
     },
     "execution_count": 8,
     "metadata": {},
     "output_type": "execute_result"
    }
   ],
   "source": [
    "## Load the state into into new agent\n",
    "\n",
    "await agent_team.load_state(team_state)\n",
    "stream = agent_team.run_stream(task = 'What was the last line of the poem you wrote ')\n",
    "\n",
    "await Console(stream)"
   ]
  },
  {
   "cell_type": "code",
   "execution_count": 9,
   "id": "52894cb1",
   "metadata": {},
   "outputs": [
    {
     "name": "stdout",
     "output_type": "stream",
     "text": [
      "---------- TextMessage (user) ----------\n",
      "What was the first line of the poem you wrote \n",
      "---------- TextMessage (Writer_1) ----------\n",
      "Endless waves whisper,\n",
      "---------- TextMessage (Writer_2) ----------\n",
      "The first line I wrote was: \"Waves crash on the shore,\"\n"
     ]
    },
    {
     "data": {
      "text/plain": [
       "TaskResult(messages=[TextMessage(source='user', models_usage=None, metadata={}, content='What was the first line of the poem you wrote ', type='TextMessage'), TextMessage(source='Writer_1', models_usage=RequestUsage(prompt_tokens=105, completion_tokens=5), metadata={}, content='Endless waves whisper,', type='TextMessage'), TextMessage(source='Writer_2', models_usage=RequestUsage(prompt_tokens=118, completion_tokens=15), metadata={}, content='The first line I wrote was: \"Waves crash on the shore,\"', type='TextMessage')], stop_reason='Maximum number of messages 3 reached, current message count: 3')"
      ]
     },
     "execution_count": 9,
     "metadata": {},
     "output_type": "execute_result"
    }
   ],
   "source": [
    "## Save state in json and load it back\n",
    "\n",
    "import json\n",
    "\n",
    "## Save the state in json\n",
    "with open('team_state.json', 'w') as f:\n",
    "    json.dump(team_state, f)\n",
    "\n",
    "## Load the state from json\n",
    "with open('team_state.json', 'r') as f:\n",
    "    team_state = json.load(f)\n",
    "    \n",
    "\n",
    "## Reset Team memory for testing\n",
    "await agent_team.reset()\n",
    "\n",
    "## Load the state\n",
    "await agent_team.load_state(team_state)\n",
    "stream = agent_team.run_stream(task = 'What was the first line of the poem you wrote ')\n",
    "\n",
    "await Console(stream)"
   ]
  },
  {
   "cell_type": "code",
   "execution_count": null,
   "id": "c8376878",
   "metadata": {},
   "outputs": [],
   "source": []
  }
 ],
 "metadata": {
  "kernelspec": {
   "display_name": ".venv",
   "language": "python",
   "name": "python3"
  },
  "language_info": {
   "codemirror_mode": {
    "name": "ipython",
    "version": 3
   },
   "file_extension": ".py",
   "mimetype": "text/x-python",
   "name": "python",
   "nbconvert_exporter": "python",
   "pygments_lexer": "ipython3",
   "version": "3.12.10"
  }
 },
 "nbformat": 4,
 "nbformat_minor": 5
}
