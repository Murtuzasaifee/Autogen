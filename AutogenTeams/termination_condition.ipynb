{
 "cells": [
  {
   "cell_type": "code",
   "execution_count": 3,
   "id": "ec8866d7",
   "metadata": {},
   "outputs": [],
   "source": [
    "import os\n",
    "from dotenv import load_dotenv\n",
    "load_dotenv()\n",
    "api_key = os.getenv('OPENAI_API_KEY')"
   ]
  },
  {
   "cell_type": "code",
   "execution_count": 4,
   "id": "ef56e6e4",
   "metadata": {},
   "outputs": [],
   "source": [
    "from autogen_agentchat.agents import AssistantAgent\n",
    "from autogen_ext.models.openai import OpenAIChatCompletionClient\n",
    "\n",
    "# Create an instance of the OpenAIChatCompletionClient\n",
    "model_client = OpenAIChatCompletionClient(api_key=api_key, model=\"gpt-4o\")"
   ]
  },
  {
   "cell_type": "code",
   "execution_count": 5,
   "id": "95aa176e",
   "metadata": {},
   "outputs": [],
   "source": [
    "# Create the coding agent.\n",
    "coding_agent = AssistantAgent(\n",
    "    name=\"CODING_AGENT\",\n",
    "    model_client=model_client,\n",
    "    system_message=\"You are a helpful AI assistant expert in the Python Programming. Generate the code for the task.\",\n",
    ")\n",
    "\n",
    "# Create the testing agent.\n",
    "testing_agent = AssistantAgent(\n",
    "    name=\"TESTING_AGENT\",\n",
    "    model_client=model_client,\n",
    "    system_message=\"You are a helpful AI assistant expert in the Python Programming. Test the code for the task.\" \\\n",
    "        \"If the code is good, then reply with 'STOP'\",\n",
    ")                                                                                                           \n",
    "\n",
    "# Create the coding editor agent.\n",
    "coding_editor_agent = AssistantAgent(\n",
    "    name=\"CODING_EDITOR_AGENT\",\n",
    "    model_client=model_client,\n",
    "    system_message=\"You are a helpful AI assistant expert in the Python Programming. Edit the code for the task.\" \\\n",
    "        \"If the code is good, then reply with 'STOP'\",\n",
    ")"
   ]
  },
  {
   "cell_type": "code",
   "execution_count": 6,
   "id": "262bbb50",
   "metadata": {},
   "outputs": [],
   "source": [
    "from autogen_agentchat.teams import RoundRobinGroupChat\n",
    "from autogen_agentchat.conditions import TextMentionTermination\n",
    "\n",
    "\n",
    "# Termination Condition\n",
    "termination_condiation = TextMentionTermination('STOP')\n",
    "\n",
    "\n",
    "# Create the group chat.\n",
    "team = RoundRobinGroupChat(\n",
    "    participants=[coding_agent, testing_agent, coding_editor_agent],\n",
    "    termination_condition=termination_condiation\n",
    ")"
   ]
  },
  {
   "cell_type": "code",
   "execution_count": 7,
   "id": "9b8afd71",
   "metadata": {},
   "outputs": [
    {
     "name": "stdout",
     "output_type": "stream",
     "text": [
      "---------- TextMessage (user) ----------\n",
      "Write a simple Hello world code ?\n",
      "---------- TextMessage (CODING_AGENT) ----------\n",
      "Certainly! Here's a simple Python code to print \"Hello, World!\":\n",
      "\n",
      "```python\n",
      "print(\"Hello, World!\")\n",
      "```\n",
      "\n",
      "Simply copy and paste this code into a Python environment to run it.\n",
      "---------- TextMessage (TESTING_AGENT) ----------\n",
      "STOP\n"
     ]
    },
    {
     "data": {
      "text/plain": [
       "TaskResult(messages=[TextMessage(source='user', models_usage=None, metadata={}, content='Write a simple Hello world code ?', type='TextMessage'), TextMessage(source='CODING_AGENT', models_usage=RequestUsage(prompt_tokens=38, completion_tokens=40), metadata={}, content='Certainly! Here\\'s a simple Python code to print \"Hello, World!\":\\n\\n```python\\nprint(\"Hello, World!\")\\n```\\n\\nSimply copy and paste this code into a Python environment to run it.', type='TextMessage'), TextMessage(source='TESTING_AGENT', models_usage=RequestUsage(prompt_tokens=97, completion_tokens=1), metadata={}, content='STOP', type='TextMessage')], stop_reason=\"Text 'STOP' mentioned\")"
      ]
     },
     "execution_count": 7,
     "metadata": {},
     "output_type": "execute_result"
    }
   ],
   "source": [
    "from autogen_agentchat.ui import Console\n",
    "\n",
    "await team.reset()  # Reset the team for a new task.\n",
    "await Console(team.run_stream(task=\"Write a simple Hello world code ?\"))  # Stream the messages to the console."
   ]
  },
  {
   "cell_type": "code",
   "execution_count": null,
   "id": "0a9f28c5",
   "metadata": {},
   "outputs": [],
   "source": []
  }
 ],
 "metadata": {
  "kernelspec": {
   "display_name": ".venv",
   "language": "python",
   "name": "python3"
  },
  "language_info": {
   "codemirror_mode": {
    "name": "ipython",
    "version": 3
   },
   "file_extension": ".py",
   "mimetype": "text/x-python",
   "name": "python",
   "nbconvert_exporter": "python",
   "pygments_lexer": "ipython3",
   "version": "3.12.10"
  }
 },
 "nbformat": 4,
 "nbformat_minor": 5
}
