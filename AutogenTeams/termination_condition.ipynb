{
 "cells": [
  {
   "cell_type": "code",
   "execution_count": 3,
   "id": "ec8866d7",
   "metadata": {},
   "outputs": [],
   "source": [
    "import os\n",
    "from dotenv import load_dotenv\n",
    "load_dotenv()\n",
    "api_key = os.getenv('OPENAI_API_KEY')"
   ]
  },
  {
   "cell_type": "code",
   "execution_count": 4,
   "id": "ef56e6e4",
   "metadata": {},
   "outputs": [],
   "source": [
    "from autogen_agentchat.agents import AssistantAgent\n",
    "from autogen_ext.models.openai import OpenAIChatCompletionClient\n",
    "\n",
    "# Create an instance of the OpenAIChatCompletionClient\n",
    "model_client = OpenAIChatCompletionClient(api_key=api_key, model=\"gpt-4o\")"
   ]
  },
  {
   "cell_type": "code",
   "execution_count": 5,
   "id": "95aa176e",
   "metadata": {},
   "outputs": [],
   "source": [
    "# Create the coding agent.\n",
    "coding_agent = AssistantAgent(\n",
    "    name=\"CODING_AGENT\",\n",
    "    model_client=model_client,\n",
    "    system_message=\"You are a helpful AI assistant expert in the Python Programming. Generate the code for the task.\",\n",
    ")\n",
    "\n",
    "# Create the testing agent.\n",
    "testing_agent = AssistantAgent(\n",
    "    name=\"TESTING_AGENT\",\n",
    "    model_client=model_client,\n",
    "    system_message=\"You are a helpful AI assistant expert in the Python Programming. Test the code for the task.\" \\\n",
    "        \"If the code is good, then reply with 'STOP'\",\n",
    ")                                                                                                           \n",
    "\n",
    "# Create the coding editor agent.\n",
    "coding_editor_agent = AssistantAgent(\n",
    "    name=\"CODING_EDITOR_AGENT\",\n",
    "    model_client=model_client,\n",
    "    system_message=\"You are a helpful AI assistant expert in the Python Programming. Edit the code for the task.\" \\\n",
    "        \"If the code is good, then reply with 'STOP'\",\n",
    ")"
   ]
  },
  {
   "cell_type": "code",
   "execution_count": 10,
   "id": "262bbb50",
   "metadata": {},
   "outputs": [],
   "source": [
    "from autogen_agentchat.teams import RoundRobinGroupChat\n",
    "from autogen_agentchat.conditions import TextMentionTermination, MaxMessageTermination\n",
    "\n",
    "\n",
    "# Termination Condition\n",
    "# termination_condiation = TextMentionTermination('STOP')\n",
    "# termination_condiation = MaxMessageTermination(10)\n",
    "termination_condiation = TextMentionTermination('STOP') | MaxMessageTermination(10)\n",
    "\n",
    "\n",
    "# Create the group chat.\n",
    "team = RoundRobinGroupChat(\n",
    "    participants=[coding_agent, testing_agent, coding_editor_agent],\n",
    "    termination_condition=termination_condiation\n",
    ")"
   ]
  },
  {
   "cell_type": "code",
   "execution_count": 11,
   "id": "9b8afd71",
   "metadata": {},
   "outputs": [
    {
     "name": "stdout",
     "output_type": "stream",
     "text": [
      "---------- TextMessage (user) ----------\n",
      "Write a simple Hello world code ?\n",
      "---------- TextMessage (CODING_AGENT) ----------\n",
      "Certainly! Here is a simple Python program that prints \"Hello, World!\" to the console:\n",
      "\n",
      "```python\n",
      "print(\"Hello, World!\")\n",
      "```\n",
      "\n",
      "You can run this code in any Python interpreter or IDE. It will output the string \"Hello, World!\" to the console.\n",
      "---------- TextMessage (TESTING_AGENT) ----------\n",
      "STOP\n"
     ]
    },
    {
     "data": {
      "text/plain": [
       "TaskResult(messages=[TextMessage(source='user', models_usage=None, metadata={}, content='Write a simple Hello world code ?', type='TextMessage'), TextMessage(source='CODING_AGENT', models_usage=RequestUsage(prompt_tokens=38, completion_tokens=56), metadata={}, content='Certainly! Here is a simple Python program that prints \"Hello, World!\" to the console:\\n\\n```python\\nprint(\"Hello, World!\")\\n```\\n\\nYou can run this code in any Python interpreter or IDE. It will output the string \"Hello, World!\" to the console.', type='TextMessage'), TextMessage(source='TESTING_AGENT', models_usage=RequestUsage(prompt_tokens=113, completion_tokens=1), metadata={}, content='STOP', type='TextMessage')], stop_reason=\"Text 'STOP' mentioned\")"
      ]
     },
     "execution_count": 11,
     "metadata": {},
     "output_type": "execute_result"
    }
   ],
   "source": [
    "from autogen_agentchat.ui import Console\n",
    "\n",
    "await team.reset()  # Reset the team for a new task.\n",
    "await Console(team.run_stream(task=\"Write a simple Hello world code ?\"))  # Stream the messages to the console."
   ]
  },
  {
   "cell_type": "markdown",
   "id": "e2de5b8b",
   "metadata": {},
   "source": [
    "## Managing State of Team and Agent"
   ]
  },
  {
   "cell_type": "code",
   "execution_count": 14,
   "id": "3ae5ff44",
   "metadata": {},
   "outputs": [
    {
     "data": {
      "text/plain": [
       "{'type': 'AssistantAgentState',\n",
       " 'version': '1.0.0',\n",
       " 'llm_context': {'messages': [{'content': 'Write a simple Hello world code ?',\n",
       "    'source': 'user',\n",
       "    'type': 'UserMessage'},\n",
       "   {'content': 'Certainly! Here is a simple Python program that prints \"Hello, World!\" to the console:\\n\\n```python\\nprint(\"Hello, World!\")\\n```\\n\\nYou can run this code in any Python interpreter or IDE. It will output the string \"Hello, World!\" to the console.',\n",
       "    'thought': None,\n",
       "    'source': 'CODING_AGENT',\n",
       "    'type': 'AssistantMessage'}]}}"
      ]
     },
     "execution_count": 14,
     "metadata": {},
     "output_type": "execute_result"
    }
   ],
   "source": [
    "agent_state = await coding_agent.save_state()\n",
    "agent_state"
   ]
  },
  {
   "cell_type": "code",
   "execution_count": 15,
   "id": "15e28629",
   "metadata": {},
   "outputs": [
    {
     "data": {
      "text/plain": [
       "{'type': 'TeamState',\n",
       " 'version': '1.0.0',\n",
       " 'agent_states': {'CODING_AGENT': {'type': 'ChatAgentContainerState',\n",
       "   'version': '1.0.0',\n",
       "   'agent_state': {'type': 'AssistantAgentState',\n",
       "    'version': '1.0.0',\n",
       "    'llm_context': {'messages': [{'content': 'Write a simple Hello world code ?',\n",
       "       'source': 'user',\n",
       "       'type': 'UserMessage'},\n",
       "      {'content': 'Certainly! Here is a simple Python program that prints \"Hello, World!\" to the console:\\n\\n```python\\nprint(\"Hello, World!\")\\n```\\n\\nYou can run this code in any Python interpreter or IDE. It will output the string \"Hello, World!\" to the console.',\n",
       "       'thought': None,\n",
       "       'source': 'CODING_AGENT',\n",
       "       'type': 'AssistantMessage'}]}},\n",
       "   'message_buffer': [{'source': 'TESTING_AGENT',\n",
       "     'models_usage': {'prompt_tokens': 113, 'completion_tokens': 1},\n",
       "     'metadata': {},\n",
       "     'content': 'STOP',\n",
       "     'type': 'TextMessage'}]},\n",
       "  'TESTING_AGENT': {'type': 'ChatAgentContainerState',\n",
       "   'version': '1.0.0',\n",
       "   'agent_state': {'type': 'AssistantAgentState',\n",
       "    'version': '1.0.0',\n",
       "    'llm_context': {'messages': [{'content': 'Write a simple Hello world code ?',\n",
       "       'source': 'user',\n",
       "       'type': 'UserMessage'},\n",
       "      {'content': 'Certainly! Here is a simple Python program that prints \"Hello, World!\" to the console:\\n\\n```python\\nprint(\"Hello, World!\")\\n```\\n\\nYou can run this code in any Python interpreter or IDE. It will output the string \"Hello, World!\" to the console.',\n",
       "       'source': 'CODING_AGENT',\n",
       "       'type': 'UserMessage'},\n",
       "      {'content': 'STOP',\n",
       "       'thought': None,\n",
       "       'source': 'TESTING_AGENT',\n",
       "       'type': 'AssistantMessage'}]}},\n",
       "   'message_buffer': []},\n",
       "  'CODING_EDITOR_AGENT': {'type': 'ChatAgentContainerState',\n",
       "   'version': '1.0.0',\n",
       "   'agent_state': {'type': 'AssistantAgentState',\n",
       "    'version': '1.0.0',\n",
       "    'llm_context': {'messages': []}},\n",
       "   'message_buffer': [{'source': 'user',\n",
       "     'models_usage': None,\n",
       "     'metadata': {},\n",
       "     'content': 'Write a simple Hello world code ?',\n",
       "     'type': 'TextMessage'},\n",
       "    {'source': 'CODING_AGENT',\n",
       "     'models_usage': {'prompt_tokens': 38, 'completion_tokens': 56},\n",
       "     'metadata': {},\n",
       "     'content': 'Certainly! Here is a simple Python program that prints \"Hello, World!\" to the console:\\n\\n```python\\nprint(\"Hello, World!\")\\n```\\n\\nYou can run this code in any Python interpreter or IDE. It will output the string \"Hello, World!\" to the console.',\n",
       "     'type': 'TextMessage'},\n",
       "    {'source': 'TESTING_AGENT',\n",
       "     'models_usage': {'prompt_tokens': 113, 'completion_tokens': 1},\n",
       "     'metadata': {},\n",
       "     'content': 'STOP',\n",
       "     'type': 'TextMessage'}]},\n",
       "  'RoundRobinGroupChatManager': {'type': 'RoundRobinManagerState',\n",
       "   'version': '1.0.0',\n",
       "   'message_thread': [{'source': 'user',\n",
       "     'models_usage': None,\n",
       "     'metadata': {},\n",
       "     'content': 'Write a simple Hello world code ?',\n",
       "     'type': 'TextMessage'},\n",
       "    {'source': 'CODING_AGENT',\n",
       "     'models_usage': {'prompt_tokens': 38, 'completion_tokens': 56},\n",
       "     'metadata': {},\n",
       "     'content': 'Certainly! Here is a simple Python program that prints \"Hello, World!\" to the console:\\n\\n```python\\nprint(\"Hello, World!\")\\n```\\n\\nYou can run this code in any Python interpreter or IDE. It will output the string \"Hello, World!\" to the console.',\n",
       "     'type': 'TextMessage'},\n",
       "    {'source': 'TESTING_AGENT',\n",
       "     'models_usage': {'prompt_tokens': 113, 'completion_tokens': 1},\n",
       "     'metadata': {},\n",
       "     'content': 'STOP',\n",
       "     'type': 'TextMessage'}],\n",
       "   'current_turn': 0,\n",
       "   'next_speaker_index': 2}}}"
      ]
     },
     "execution_count": 15,
     "metadata": {},
     "output_type": "execute_result"
    }
   ],
   "source": [
    "team_state = await team.save_state()\n",
    "team_state"
   ]
  },
  {
   "cell_type": "code",
   "execution_count": 17,
   "id": "b3978ccd",
   "metadata": {},
   "outputs": [
    {
     "data": {
      "text/plain": [
       "<coroutine object AssistantAgent.load_state at 0x10d652dc0>"
      ]
     },
     "execution_count": 17,
     "metadata": {},
     "output_type": "execute_result"
    }
   ],
   "source": [
    "## Initializing the new the agent with the other agent memory\n",
    "\n",
    "new_coding_agent = AssistantAgent(\n",
    "    name = \"New_Coding_Agent\",\n",
    "    model_client= model_client,\n",
    "    system_message=\"You are a helpful AI assistant expert in the Python Programming. Generate the code for the task.\"\n",
    ")\n",
    "new_coding_agent.load_state(agent_state)"
   ]
  }
 ],
 "metadata": {
  "kernelspec": {
   "display_name": ".venv",
   "language": "python",
   "name": "python3"
  },
  "language_info": {
   "codemirror_mode": {
    "name": "ipython",
    "version": 3
   },
   "file_extension": ".py",
   "mimetype": "text/x-python",
   "name": "python",
   "nbconvert_exporter": "python",
   "pygments_lexer": "ipython3",
   "version": "3.12.10"
  }
 },
 "nbformat": 4,
 "nbformat_minor": 5
}
