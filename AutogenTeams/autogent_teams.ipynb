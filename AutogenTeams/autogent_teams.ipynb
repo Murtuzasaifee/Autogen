{
 "cells": [
  {
   "cell_type": "markdown",
   "id": "01098ba6",
   "metadata": {},
   "source": [
    "## Autogen Team"
   ]
  },
  {
   "cell_type": "code",
   "execution_count": 4,
   "id": "b9ee86be",
   "metadata": {},
   "outputs": [],
   "source": [
    "import os\n",
    "from dotenv import load_dotenv\n",
    "load_dotenv()\n",
    "api_key = os.getenv('OPENAI_API_KEY')"
   ]
  },
  {
   "cell_type": "code",
   "execution_count": 5,
   "id": "4688ff79",
   "metadata": {},
   "outputs": [],
   "source": [
    "from autogen_agentchat.agents import AssistantAgent\n",
    "from autogen_ext.models.openai import OpenAIChatCompletionClient\n",
    "\n",
    "# Create an instance of the OpenAIChatCompletionClient\n",
    "model_client = OpenAIChatCompletionClient(api_key=api_key, model=\"gpt-4o\")"
   ]
  },
  {
   "cell_type": "code",
   "execution_count": 9,
   "id": "63e4c303",
   "metadata": {},
   "outputs": [
    {
     "name": "stdout",
     "output_type": "stream",
     "text": [
      "User  : Write a simple Hello world code ?\n",
      "\n",
      " \n",
      "\n",
      "CODING_AGENT  : Certainly! Here is a simple Python program that prints \"Hello, World!\":\n",
      "\n",
      "```python\n",
      "print(\"Hello, World!\")\n",
      "```\n",
      "\n",
      "You can run this code in any Python environment, and it will display the message \"Hello, World!\" on the screen.\n",
      "\n",
      " \n",
      "\n",
      "TESTING_AGENT  : To test the code, create a new Python file with a `.py` extension (e.g., `hello_world.py`) and add the following code:\n",
      "\n",
      "```python\n",
      "print(\"Hello, World!\")\n",
      "```\n",
      "\n",
      "After saving the file, open a terminal or command prompt, navigate to the directory where the file is located, and then execute the program by running:\n",
      "\n",
      "```bash\n",
      "python hello_world.py\n",
      "```\n",
      "\n",
      "This will display:\n",
      "\n",
      "```\n",
      "Hello, World!\n",
      "```\n",
      "\n",
      "on the terminal, confirming that the code runs correctly.\n",
      "\n",
      " \n",
      "\n",
      "CODING_EDITOR_AGENT  : If you encounter any issues running the code, ensure that Python is installed on your system and that the terminal or command prompt can access it. You can verify this by typing `python --version` or `python3 --version` to check the installed Python version.\n",
      "\n",
      " \n",
      "\n"
     ]
    }
   ],
   "source": [
    "from autogen_agentchat.teams import RoundRobinGroupChat\n",
    "from autogen_agentchat.base import TaskResult\n",
    "from autogen_agentchat.messages import TextMessage\n",
    "\n",
    "\n",
    "# Create the coding agent.\n",
    "coding_agent = AssistantAgent(\n",
    "    name=\"CODING_AGENT\",\n",
    "    model_client=model_client,\n",
    "    system_message=\"You are a helpful AI assistant expert in the Python Programming. Generate the code for the task.\",\n",
    ")\n",
    "\n",
    "# Create the testing agent.\n",
    "testing_agent = AssistantAgent(\n",
    "    name=\"TESTING_AGENT\",\n",
    "    model_client=model_client,\n",
    "    system_message=\"You are a helpful AI assistant expert in the Python Programming. Test the code for the task.\",\n",
    ")\n",
    "\n",
    "# Create the coding editor agent.\n",
    "coding_editor_agent = AssistantAgent(\n",
    "    name=\"CODING_EDITOR_AGENT\",\n",
    "    model_client=model_client,\n",
    "    system_message=\"You are a helpful AI assistant expert in the Python Programming. Edit the code for the task.\",\n",
    ")\n",
    "\n",
    "# Create the group chat.\n",
    "team = RoundRobinGroupChat(\n",
    "    participants=[coding_agent, testing_agent, coding_editor_agent],\n",
    "    max_turns=3, # Maximum number of messages/turn use by the agents combining in a team.\n",
    ")\n",
    "\n",
    "async def test_team():\n",
    "    task = TextMessage(content='Write a simple Hello world code ?',source='User')\n",
    "    \n",
    "    result = await team.run(task=task)\n",
    "\n",
    "    for each_agent_message in result.messages:\n",
    "        print(f'{each_agent_message.source}  : {each_agent_message.content}' )\n",
    "        print('\\n \\n')\n",
    "\n",
    "\n",
    "await test_team()\n"
   ]
  },
  {
   "cell_type": "code",
   "execution_count": null,
   "id": "b10f3c8b",
   "metadata": {},
   "outputs": [],
   "source": []
  },
  {
   "cell_type": "code",
   "execution_count": null,
   "id": "73101c5c",
   "metadata": {},
   "outputs": [],
   "source": []
  },
  {
   "cell_type": "code",
   "execution_count": null,
   "id": "77a12936",
   "metadata": {},
   "outputs": [],
   "source": []
  },
  {
   "cell_type": "code",
   "execution_count": null,
   "id": "ac096c77",
   "metadata": {},
   "outputs": [],
   "source": []
  }
 ],
 "metadata": {
  "kernelspec": {
   "display_name": ".venv",
   "language": "python",
   "name": "python3"
  },
  "language_info": {
   "codemirror_mode": {
    "name": "ipython",
    "version": 3
   },
   "file_extension": ".py",
   "mimetype": "text/x-python",
   "name": "python",
   "nbconvert_exporter": "python",
   "pygments_lexer": "ipython3",
   "version": "3.12.10"
  }
 },
 "nbformat": 4,
 "nbformat_minor": 5
}
